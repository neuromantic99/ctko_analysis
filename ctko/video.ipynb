{
 "cells": [
  {
   "cell_type": "code",
   "execution_count": 1,
   "metadata": {},
   "outputs": [],
   "source": [
    "%reload_ext autoreload\n",
    "%autoreload 2\n",
    "%matplotlib qt \n",
    "\n",
    "import napari\n",
    "import numpy as np\n",
    "import matplotlib.pyplot as plt\n",
    "\n",
    "from pathlib import Path\n",
    "\n",
    "from utils import  load_video_as_array, moving_average, array_seconds_to_minute_second\n",
    "from scipy.stats import zscore\n",
    "from consts import HERE\n",
    "\n",
    "from two_photon import load_data "
   ]
  },
  {
   "cell_type": "code",
   "execution_count": 2,
   "metadata": {},
   "outputs": [],
   "source": [
    "pupil_umbrella = Path(\"/Volumes/MarcBusche/James/Regular2p\")\n",
    "\n",
    "# date = \"2024-09-27\"\n",
    "# mouse = \"J023\"\n",
    "\n",
    "# mouse = \"J025\"\n",
    "# date = \"2024-09-27\"\n",
    "\n",
    "mouse = \"J024\"\n",
    "date = \"2024-10-09\"\n",
    "\n",
    "\n",
    "pupil_folder = pupil_umbrella / date / mouse\n",
    "mp4_paths = sorted(list(pupil_folder.glob(\"*.mp4\")))"
   ]
  },
  {
   "cell_type": "code",
   "execution_count": 3,
   "metadata": {},
   "outputs": [],
   "source": [
    "show_napari = True\n",
    "\n",
    "if show_napari:\n",
    "    # Inspect the binary form of the video\n",
    "    video = load_video_as_array(mp4_paths[0], 500)\n",
    "\n",
    "    viewer = napari.Viewer()\n",
    "    binarised = (video > 200).astype(int)\n",
    "\n",
    "    viewer.add_image(video, name=\"Video\")\n",
    "    viewer.add_image(binarised, name=\"Binarised\")\n",
    "    viewer.add_image(np.abs(np.diff(binarised, 2)), name=\"Diffed\")"
   ]
  },
  {
   "cell_type": "code",
   "execution_count": 4,
   "metadata": {},
   "outputs": [],
   "source": [
    "diffed = np.load(HERE.parent / \"cache\" /  f\"{mouse}-{date}-diffed.npy\")\n",
    "movement = moving_average(zscore(diffed), 10)\n",
    "# Add a value onto the end to get it the same shape as the dff\n",
    "movement = np.append(movement, movement[-1])"
   ]
  },
  {
   "cell_type": "code",
   "execution_count": 5,
   "metadata": {},
   "outputs": [],
   "source": [
    "plot_movement = False\n",
    "\n",
    "if plot_movement:\n",
    "    plt.figure()\n",
    "    x_labels = array_seconds_to_minute_second(np.arange(len(movement)) / 30)\n",
    "    plt.plot(movement)\n",
    "    spacing = 60 \n",
    "    plt.xticks(range(0, len(movement), spacing), x_labels[::spacing], rotation=90);\n",
    "    plt.show()"
   ]
  },
  {
   "cell_type": "code",
   "execution_count": 6,
   "metadata": {},
   "outputs": [],
   "source": [
    "dff, deconv = load_data(mouse, date)\n",
    "\n",
    "# Pupil was not saved for the final recording so this is a valid maneuver for this mouse\n",
    "if mouse == \"J025\" and date == \"2024-09-27\":\n",
    "    dff = dff[:, :len(movement)]\n",
    "    deconv = deconv[:, :len(movement)]\n",
    "\n",
    "assert movement.shape[0] == deconv.shape[1]  == dff.shape[1]"
   ]
  },
  {
   "cell_type": "code",
   "execution_count": 7,
   "metadata": {},
   "outputs": [
    {
     "name": "stdout",
     "output_type": "stream",
     "text": [
      "percent resting: 46.96666666666667 %\n",
      "Resting spike rate: 3.5320412630977835\n",
      "Moving spike rate: 3.6357470832200267\n"
     ]
    }
   ],
   "source": [
    "# There are 32 frames that are nan here so the rate is very slightly off but not enough to make a difference\n",
    "\n",
    "resting = movement < -0.5\n",
    "print(f'percent resting: {np.sum(resting) / len(resting) * 100} %')\n",
    "\n",
    "resting_spike_rate = np.nansum(deconv[:, resting], 1) / (np.sum(resting) / 30)\n",
    "moving_spike_rate = np.nansum(deconv[:, ~resting], 1) / (np.sum(~resting) / 30)\n",
    "\n",
    "\n",
    "np.save(HERE.parent / \"cache\" / f\"{mouse}-{date}-resting-rates.npy\", resting_spike_rate)\n",
    "np.save(HERE.parent / \"cache\" / f\"{mouse}-{date}-moving-rates.npy\", moving_spike_rate)\n",
    "\n",
    "print(f\"Resting spike rate: {np.mean(resting_spike_rate)}\") \n",
    "print(f\"Moving spike rate: {np.mean(moving_spike_rate)}\")"
   ]
  },
  {
   "cell_type": "code",
   "execution_count": null,
   "metadata": {},
   "outputs": [],
   "source": []
  }
 ],
 "metadata": {
  "kernelspec": {
   "display_name": "venv",
   "language": "python",
   "name": "python3"
  },
  "language_info": {
   "codemirror_mode": {
    "name": "ipython",
    "version": 3
   },
   "file_extension": ".py",
   "mimetype": "text/x-python",
   "name": "python",
   "nbconvert_exporter": "python",
   "pygments_lexer": "ipython3",
   "version": "3.12.7"
  }
 },
 "nbformat": 4,
 "nbformat_minor": 2
}
