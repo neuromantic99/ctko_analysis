{
 "cells": [
  {
   "cell_type": "code",
   "execution_count": 1,
   "metadata": {},
   "outputs": [],
   "source": [
    "%reload_ext autoreload\n",
    "%autoreload 2\n",
    "%matplotlib qt \n",
    "\n",
    "import sys\n",
    "import napari\n",
    "import numpy as np\n",
    "import matplotlib.pyplot as plt\n",
    "\n",
    "from pathlib import Path\n",
    "\n",
    "from utils import  load_video_as_array\n",
    "from consts import HERE\n",
    "\n",
    "sys.path.append(str(HERE.parent))\n"
   ]
  },
  {
   "cell_type": "code",
   "execution_count": 7,
   "metadata": {},
   "outputs": [],
   "source": [
    "pupil_umbrella = Path(\"/Volumes/MarcBusche/James/Regular2p\")\n",
    "mouse = \"J029\"\n",
    "date = \"2024-10-25\"\n",
    "pupil_folder = pupil_umbrella / date / mouse\n",
    "mp4_paths = sorted(list(pupil_folder.glob(\"*.mp4\")))"
   ]
  },
  {
   "cell_type": "code",
   "execution_count": 8,
   "metadata": {},
   "outputs": [
    {
     "name": "stdout",
     "output_type": "stream",
     "text": [
      "J029\n"
     ]
    }
   ],
   "source": [
    "show_napari = True\n",
    "print(mouse)\n",
    "\n",
    "if show_napari:\n",
    "    # Inspect the binary form of the video\n",
    "    video = load_video_as_array(mp4_paths[0], 500)\n",
    "\n",
    "    viewer = napari.Viewer()\n",
    "    binarised = (video > 100).astype('int')\n",
    "\n",
    "    viewer.add_image(video, name=\"Video\")\n",
    "    viewer.add_image(binarised, name=\"Binanrised\")"
   ]
  },
  {
   "cell_type": "code",
   "execution_count": 32,
   "metadata": {},
   "outputs": [],
   "source": [
    "shape = [layer for layer in viewer.layers if layer.name == \"Shapes\"][0]\n",
    "\n",
    "[key for key in shape.__dict__.keys() if key[0] != \"_\"]\n",
    "\n",
    "top_left =  [shape.corner_pixels[0, 1], shape.corner_pixels[0, 2]]\n",
    "bottom_right = [shape.corner_pixels[1,1], shape.corner_pixels[1,2]]\n",
    "\n",
    "\n",
    "bottom_right[0] = bottom_right[0] +  400 - (bottom_right[0] - top_left[0])\n",
    "bottom_right[1] = bottom_right[1] +  400 - (bottom_right[1] - top_left[1])\n",
    "\n",
    "assert (bottom_right[0] - top_left[0]) == 400\n",
    "assert (bottom_right[1] - top_left[1]) == 400\n",
    "\n",
    "\n",
    "save_path=HERE.parent / \"cache\" / f\"{mouse}_{date}_corner_pixels.npy\"\n",
    "np.save(save_path,(top_left,bottom_right))\n"
   ]
  },
  {
   "cell_type": "code",
   "execution_count": 33,
   "metadata": {},
   "outputs": [
    {
     "name": "stdout",
     "output_type": "stream",
     "text": [
      "J029\n"
     ]
    },
    {
     "data": {
      "text/plain": [
       "<Image layer 'Cropped Video' at 0x2a0761a60>"
      ]
     },
     "execution_count": 33,
     "metadata": {},
     "output_type": "execute_result"
    }
   ],
   "source": [
    "print(mouse)\n",
    "save_path=HERE.parent / \"cache\" / f\"{mouse}_{date}_corner_pixels.npy\"\n",
    "video = load_video_as_array(mp4_paths[0], 700)\n",
    "top_left,bottom_right = np.load(save_path)\n",
    "\n",
    "viewer = napari.Viewer()\n",
    "\n",
    "cropped_video = video[:, top_left[0]: bottom_right[0], top_left[1]: bottom_right[1]]\n",
    "binarised = (cropped_video > 200).astype(int)\n",
    "\n",
    "diffed = np.abs(np.diff(binarised, axis=0))\n",
    "viewer.add_image(binarised, name=\"Cropped Binarised\")\n",
    "viewer.add_image(diffed, name=\"Cropped Diffed\")\n",
    "viewer.add_image(cropped_video, name=\"Cropped Video\")"
   ]
  },
  {
   "cell_type": "code",
   "execution_count": null,
   "metadata": {},
   "outputs": [],
   "source": [
    "# plt.clf()\n",
    "# plt.plot(np.sum(diffed, (1,2)))\n",
    "# plt.show()"
   ]
  },
  {
   "cell_type": "code",
   "execution_count": 17,
   "metadata": {},
   "outputs": [],
   "source": [
    "x = np.load(HERE.parent / \"cache\" / f\"{mouse}_{date}_corner_pixels.npy\")"
   ]
  }
 ],
 "metadata": {
  "kernelspec": {
   "display_name": "venv",
   "language": "python",
   "name": "python3"
  },
  "language_info": {
   "codemirror_mode": {
    "name": "ipython",
    "version": 3
   },
   "file_extension": ".py",
   "mimetype": "text/x-python",
   "name": "python",
   "nbconvert_exporter": "python",
   "pygments_lexer": "ipython3",
   "version": "3.12.7"
  }
 },
 "nbformat": 4,
 "nbformat_minor": 2
}
