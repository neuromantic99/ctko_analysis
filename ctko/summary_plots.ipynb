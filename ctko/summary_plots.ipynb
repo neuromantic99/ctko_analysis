{
 "cells": [
  {
   "cell_type": "code",
   "execution_count": 1,
   "metadata": {},
   "outputs": [],
   "source": [
    "%reload_ext autoreload\n",
    "%autoreload 2\n",
    "%matplotlib qt \n",
    "\n",
    "from typing import List, Tuple\n",
    "from itertools import zip_longest\n",
    "import sys\n",
    "import numpy as np\n",
    "import matplotlib.pyplot as plt\n",
    "import csv\n",
    "import seaborn as sns\n",
    "from scipy.stats import skew, zscore, linregress,mannwhitneyu\n",
    "import statsmodels.api as sm\n",
    "import statsmodels.formula.api as smf\n",
    "\n",
    "from consts import HERE\n",
    "\n",
    "sys.path.append(str(HERE.parent))\n",
    "import pandas as pd\n",
    "\n",
    "from ctko.utils import moving_average\n",
    "sns.set_theme(context=\"talk\", style=\"ticks\")"
   ]
  },
  {
   "cell_type": "code",
   "execution_count": 2,
   "metadata": {},
   "outputs": [],
   "source": [
    "def normalize(data):\n",
    "    return (data - np.min(data)) / (np.max(data) - np.min(data))"
   ]
  },
  {
   "cell_type": "code",
   "execution_count": null,
   "metadata": {},
   "outputs": [
    {
     "name": "stdout",
     "output_type": "stream",
     "text": [
      "CTKO\n",
      "/Users/jamesrowland/Code/ctko/cache/J023-2024-09-27-n-transients.npy\n",
      "\n",
      "\n",
      "WT\n",
      "/Users/jamesrowland/Code/ctko/cache/J028-2024-10-24-n-transients.npy\n",
      "\n",
      "\n",
      "CTKO\n",
      "/Users/jamesrowland/Code/ctko/cache/J027-2024-10-09-n-transients.npy\n",
      "\n",
      "\n",
      "WT\n",
      "/Users/jamesrowland/Code/ctko/cache/J022-2024-09-27-n-transients.npy\n",
      "\n",
      "\n",
      "WT\n",
      "/Users/jamesrowland/Code/ctko/cache/J026-2024-10-24-n-transients.npy\n",
      "\n",
      "\n",
      "CTKO\n",
      "/Users/jamesrowland/Code/ctko/cache/J025-2024-09-27-n-transients.npy\n",
      "\n",
      "\n",
      "CTKO\n",
      "/Users/jamesrowland/Code/ctko/cache/J029-2024-10-25-n-transients.npy\n",
      "\n",
      "\n",
      "WT\n",
      "/Users/jamesrowland/Code/ctko/cache/J024-2024-10-09-n-transients.npy\n",
      "\n",
      "\n"
     ]
    }
   ],
   "source": [
    "type = 'all-spike-rate.npy'\n",
    "# type = 'moving-rates.npy'\n",
    "# type = 'resting-rates.npy'\n",
    "\n",
    "suite2p_type = \"cellpose\"\n",
    "\n",
    "correlation_paths = list(\n",
    "    (HERE.parent / \"cache\").glob(\"*-correlation_coeff.npy\")\n",
    ")\n",
    "\n",
    "n_transients_paths = list((HERE.parent / \"cache\").glob(\"*-n-transients.npy\"))\n",
    "if suite2p_type != \"activity_suite2p_rates\":\n",
    "    rate_paths = list((HERE.parent / \"cache\").glob(f\"*-{type}\"))\n",
    "else:\n",
    "    rate_paths = list((HERE.parent /  \"cache\" / suite2p_type).glob(f\"*-{type}\"))\n",
    "\n",
    "\n",
    "wt_color = sns.color_palette(\"muted\")[0]\n",
    "ctko_color = sns.color_palette(\"muted\")[1]\n",
    "\n",
    "data = {}\n",
    "palette = {}\n",
    "\n",
    "correlations_wt = []\n",
    "correlations_ctko = []\n",
    "\n",
    "n_transients_wt = []\n",
    "n_transients_ctko = []\n",
    "\n",
    "for path in rate_paths:\n",
    "    mouse = path.name.split(\"-\")[0]\n",
    "    assert mouse[:3] == \"J02\"\n",
    "    correlation_path = [path for path in correlation_paths if mouse in str(path)]\n",
    "    n_transients_path = [path for path in n_transients_paths if mouse in str(path)]\n",
    "    n_frames = 50912 if mouse == \"J025\" else 54000 \n",
    "    assert len(correlation_path) == 1\n",
    "\n",
    "    # Even numbers are WT\n",
    "    genotype = \"WT\" if int(mouse[3]) % 2 == 0 else \"CTKO\"\n",
    "    print(genotype)\n",
    "    rate_vector = np.load(path)\n",
    "    print(n_transients_path[0])\n",
    "    data[mouse] = {\"genotype\": genotype, \"data\": rate_vector, \"n_transients\": np.load(n_transients_path[0]) / (n_frames / 30)}\n",
    "    palette[mouse] = wt_color if genotype == \"WT\" else ctko_color\n",
    "\n",
    "    if genotype == \"WT\":\n",
    "        correlations_wt.append(np.load(correlation_path[0]).item())\n",
    "        n_transients_wt.extend(np.load(n_transients_path[0]) / (n_frames / 30))\n",
    "\n",
    "    elif genotype == \"CTKO\":\n",
    "        correlations_ctko.append(np.load(correlation_path[0]).item())\n",
    "        n_transients_ctko.extend(np.load(n_transients_path[0]) / (n_frames / 30))\n",
    "\n",
    "df_all_rates = pd.concat(\n",
    "    [\n",
    "        pd.DataFrame({\"Subject\": subject, \"Genotype\": info[\"genotype\"], \"Firing rate\": info[\"data\"], \"Number of transients per second\": info['n_transients']})\n",
    "        for subject, info in data.items()\n",
    "    ],\n",
    ").reset_index(drop=True)\n",
    "\n",
    "all_rates_wt = df_all_rates[df_all_rates['Genotype'] == \"WT\"][\"Firing rate\"]\n",
    "all_rates_ctko = df_all_rates[df_all_rates['Genotype'] == \"CTKO\"][\"Firing rate\"]"
   ]
  },
  {
   "cell_type": "code",
   "execution_count": 16,
   "metadata": {},
   "outputs": [],
   "source": [
    "df_all_rates.to_csv(HERE.parent / \"data_for_sam\" / \"Number_of_transients_and_rates_by_subject.csv\")"
   ]
  },
  {
   "cell_type": "code",
   "execution_count": 8,
   "metadata": {},
   "outputs": [
    {
     "data": {
      "text/plain": [
       "Text(0.5, 9.883333333333328, 'Number of calcium transients / second')"
      ]
     },
     "execution_count": 8,
     "metadata": {},
     "output_type": "execute_result"
    }
   ],
   "source": [
    "sns.kdeplot(df_all_rates[df_all_rates['Genotype'] == \"WT\"]['Number of transients per second'],fill=True, label='WT')\n",
    "sns.kdeplot(df_all_rates[df_all_rates['Genotype'] == \"CTKO\"]['Number of transients per second'],fill=True, label='CTKO')\n",
    "plt.legend()\n",
    "\n",
    "plt.xlim(0, None)\n",
    "sns.despine()\n",
    "plt.tight_layout()\n",
    "plt.xlabel(\"Number of calcium transients / second\")\n"
   ]
  },
  {
   "cell_type": "code",
   "execution_count": 6,
   "metadata": {},
   "outputs": [],
   "source": [
    "df_all_rates\n",
    "df_all_rates.to_csv(HERE.parent / \"data_for_sam\"/ 'subject_firing_rates.csv', sep='\\t')\n"
   ]
  },
  {
   "cell_type": "code",
   "execution_count": 7,
   "metadata": {},
   "outputs": [],
   "source": [
    "with open(HERE.parent / \"data_for_sam\"/ 'firing_rates.csv', mode=\"w\", newline=\"\") as file:\n",
    "    writer = csv.writer(file)\n",
    "    # Write headers\n",
    "    writer.writerow([\"Controls\", \"cTKO\"])\n",
    "    # Write rows\n",
    "    for control, ctko_value in zip_longest(all_rates_wt, all_rates_ctko, fillvalue=\"\"):\n",
    "        writer.writerow([control, ctko_value])"
   ]
  },
  {
   "cell_type": "code",
   "execution_count": 8,
   "metadata": {},
   "outputs": [
    {
     "data": {
      "text/plain": [
       "Text(0, 0.5, 'Average Correlation Coffecient')"
      ]
     },
     "execution_count": 8,
     "metadata": {},
     "output_type": "execute_result"
    }
   ],
   "source": [
    "sns.boxplot({\"WT\": correlations_wt, \"CTKO\": correlations_ctko}, showfliers= False)\n",
    "sns.stripplot({\"WT\": correlations_wt, \"CTKO\": correlations_ctko}, linewidth=1)\n",
    "plt.ylabel(\"Average Correlation Coffecient\")\n"
   ]
  },
  {
   "cell_type": "code",
   "execution_count": 17,
   "metadata": {},
   "outputs": [],
   "source": [
    "sns.kdeplot(n_transients_wt,fill=True, label='WT')\n",
    "sns.kdeplot(n_transients_ctko,fill=True, label=\"CTKO\")\n",
    "plt.legend()\n",
    "sns.despine()\n",
    "plt.tight_layout()\n",
    "plt.xlabel(\"Number of calcium transients / second\")\n",
    "\n",
    "\n",
    "plt.xlim(0, None)\n",
    "\n",
    "with open(HERE.parent / \"data_for_sam\"/ 'number_of_transients.csv', mode=\"w\", newline=\"\") as file:\n",
    "    writer = csv.writer(file)\n",
    "    # Write headers\n",
    "    writer.writerow([\"Controls\", \"cTKO\"])\n",
    "    # Write rows\n",
    "    for control, ctko_value in zip_longest(n_transients_wt, n_transients_ctko, fillvalue=\"\"):\n",
    "        writer.writerow([control, ctko_value])\n",
    "\n",
    "data_loaded = pd.read_csv(HERE.parent / \"data_for_sam\"/ 'Number_of_transients_and_rates_by_subject.csv')\n"
   ]
  },
  {
   "cell_type": "code",
   "execution_count": 10,
   "metadata": {},
   "outputs": [
    {
     "name": "stdout",
     "output_type": "stream",
     "text": [
      "Mean Control: 0.21746565113500593\n",
      "Median Control: 0.2088888888888889\n",
      "Mean ctko: 0.09790577131929311\n",
      "Median ctko: 0.05527777777777777\n"
     ]
    }
   ],
   "source": [
    "print(f\"Mean Control: {np.mean(n_transients_wt)}\")\n",
    "print(f\"Median Control: {np.median(n_transients_wt)}\")\n",
    "print(f\"Mean ctko: {np.mean(n_transients_ctko)}\")\n",
    "print(f\"Median ctko: {np.median(n_transients_ctko)}\")"
   ]
  },
  {
   "cell_type": "code",
   "execution_count": 19,
   "metadata": {},
   "outputs": [
    {
     "data": {
      "text/html": [
       "<div>\n",
       "<style scoped>\n",
       "    .dataframe tbody tr th:only-of-type {\n",
       "        vertical-align: middle;\n",
       "    }\n",
       "\n",
       "    .dataframe tbody tr th {\n",
       "        vertical-align: top;\n",
       "    }\n",
       "\n",
       "    .dataframe thead th {\n",
       "        text-align: right;\n",
       "    }\n",
       "</style>\n",
       "<table border=\"1\" class=\"dataframe\">\n",
       "  <thead>\n",
       "    <tr style=\"text-align: right;\">\n",
       "      <th></th>\n",
       "      <th>Unnamed: 0</th>\n",
       "      <th>Subject</th>\n",
       "      <th>Genotype</th>\n",
       "      <th>Firing rate</th>\n",
       "      <th>Number of transients per second</th>\n",
       "    </tr>\n",
       "  </thead>\n",
       "  <tbody>\n",
       "    <tr>\n",
       "      <th>0</th>\n",
       "      <td>0</td>\n",
       "      <td>J023</td>\n",
       "      <td>CTKO</td>\n",
       "      <td>0.989750</td>\n",
       "      <td>0.197222</td>\n",
       "    </tr>\n",
       "    <tr>\n",
       "      <th>1</th>\n",
       "      <td>1</td>\n",
       "      <td>J023</td>\n",
       "      <td>CTKO</td>\n",
       "      <td>1.376770</td>\n",
       "      <td>0.152222</td>\n",
       "    </tr>\n",
       "    <tr>\n",
       "      <th>2</th>\n",
       "      <td>2</td>\n",
       "      <td>J023</td>\n",
       "      <td>CTKO</td>\n",
       "      <td>0.123205</td>\n",
       "      <td>0.013889</td>\n",
       "    </tr>\n",
       "    <tr>\n",
       "      <th>3</th>\n",
       "      <td>3</td>\n",
       "      <td>J023</td>\n",
       "      <td>CTKO</td>\n",
       "      <td>1.823752</td>\n",
       "      <td>0.231111</td>\n",
       "    </tr>\n",
       "    <tr>\n",
       "      <th>4</th>\n",
       "      <td>4</td>\n",
       "      <td>J023</td>\n",
       "      <td>CTKO</td>\n",
       "      <td>1.043952</td>\n",
       "      <td>0.183333</td>\n",
       "    </tr>\n",
       "    <tr>\n",
       "      <th>...</th>\n",
       "      <td>...</td>\n",
       "      <td>...</td>\n",
       "      <td>...</td>\n",
       "      <td>...</td>\n",
       "      <td>...</td>\n",
       "    </tr>\n",
       "    <tr>\n",
       "      <th>1407</th>\n",
       "      <td>1407</td>\n",
       "      <td>J024</td>\n",
       "      <td>WT</td>\n",
       "      <td>0.513040</td>\n",
       "      <td>0.368889</td>\n",
       "    </tr>\n",
       "    <tr>\n",
       "      <th>1408</th>\n",
       "      <td>1408</td>\n",
       "      <td>J024</td>\n",
       "      <td>WT</td>\n",
       "      <td>0.275604</td>\n",
       "      <td>0.069444</td>\n",
       "    </tr>\n",
       "    <tr>\n",
       "      <th>1409</th>\n",
       "      <td>1409</td>\n",
       "      <td>J024</td>\n",
       "      <td>WT</td>\n",
       "      <td>0.392947</td>\n",
       "      <td>0.436111</td>\n",
       "    </tr>\n",
       "    <tr>\n",
       "      <th>1410</th>\n",
       "      <td>1410</td>\n",
       "      <td>J024</td>\n",
       "      <td>WT</td>\n",
       "      <td>0.324955</td>\n",
       "      <td>0.006111</td>\n",
       "    </tr>\n",
       "    <tr>\n",
       "      <th>1411</th>\n",
       "      <td>1411</td>\n",
       "      <td>J024</td>\n",
       "      <td>WT</td>\n",
       "      <td>0.420517</td>\n",
       "      <td>0.114444</td>\n",
       "    </tr>\n",
       "  </tbody>\n",
       "</table>\n",
       "<p>1412 rows × 5 columns</p>\n",
       "</div>"
      ],
      "text/plain": [
       "      Unnamed: 0 Subject Genotype  Firing rate  \\\n",
       "0              0    J023     CTKO     0.989750   \n",
       "1              1    J023     CTKO     1.376770   \n",
       "2              2    J023     CTKO     0.123205   \n",
       "3              3    J023     CTKO     1.823752   \n",
       "4              4    J023     CTKO     1.043952   \n",
       "...          ...     ...      ...          ...   \n",
       "1407        1407    J024       WT     0.513040   \n",
       "1408        1408    J024       WT     0.275604   \n",
       "1409        1409    J024       WT     0.392947   \n",
       "1410        1410    J024       WT     0.324955   \n",
       "1411        1411    J024       WT     0.420517   \n",
       "\n",
       "      Number of transients per second  \n",
       "0                            0.197222  \n",
       "1                            0.152222  \n",
       "2                            0.013889  \n",
       "3                            0.231111  \n",
       "4                            0.183333  \n",
       "...                               ...  \n",
       "1407                         0.368889  \n",
       "1408                         0.069444  \n",
       "1409                         0.436111  \n",
       "1410                         0.006111  \n",
       "1411                         0.114444  \n",
       "\n",
       "[1412 rows x 5 columns]"
      ]
     },
     "execution_count": 19,
     "metadata": {},
     "output_type": "execute_result"
    }
   ],
   "source": [
    "data_loaded"
   ]
  },
  {
   "cell_type": "code",
   "execution_count": 22,
   "metadata": {},
   "outputs": [
    {
     "data": {
      "text/plain": [
       "(0.0, 12.152914204550504)"
      ]
     },
     "execution_count": 22,
     "metadata": {},
     "output_type": "execute_result"
    }
   ],
   "source": [
    "sns.kdeplot(data_loaded[data_loaded['Genotype'] == 'WT']['Firing rate'],fill=True, label='WT')\n",
    "sns.kdeplot(data_loaded[data_loaded['Genotype'] == 'CTKO']['Firing rate'],fill=True, label='CTKO')\n",
    "plt.legend()\n",
    "sns.despine()\n",
    "plt.tight_layout()\n",
    "plt.xlabel(\"Number of calcium transients / second\")\n",
    "plt.xlim(0, None)\n"
   ]
  },
  {
   "cell_type": "code",
   "execution_count": null,
   "metadata": {},
   "outputs": [],
   "source": []
  },
  {
   "cell_type": "code",
   "execution_count": 12,
   "metadata": {},
   "outputs": [],
   "source": [
    "plt.figure()\n",
    "genotype_colors = {'WT': 'green', 'CTKO': 'orange'}\n",
    "ax = sns.boxplot(x='Genotype', y='Firing rate', hue='Subject', data=df_all_rates, dodge=True, showfliers=False, legend=True)\n",
    "sns.stripplot(x='Genotype', y='Firing rate', hue='Subject', data=df_all_rates, dodge=True, legend=False, alpha=0.5)\n",
    "sns.despine()\n",
    "plt.tight_layout()\n",
    "plt.ylabel(f\"Firing rate {type.strip(\".npy\").replace(\"-\" , \" \")}\")\n",
    "plt.savefig(HERE.parent / \"figures\"/ f\"rates {suite2p_type} {type.strip(\".npy\")}\")"
   ]
  },
  {
   "cell_type": "code",
   "execution_count": 13,
   "metadata": {},
   "outputs": [
    {
     "data": {
      "text/plain": [
       "MannwhitneyuResult(statistic=np.float64(340038.0), pvalue=np.float64(5.3302554321106566e-33))"
      ]
     },
     "execution_count": 13,
     "metadata": {},
     "output_type": "execute_result"
    }
   ],
   "source": [
    "n = 100\n",
    "plt.figure()\n",
    "\n",
    "sns.kdeplot(all_rates_wt,fill=True, label='WT')\n",
    "sns.kdeplot(all_rates_ctko,fill=True, label=\"CTKO\")\n",
    "plt.legend()\n",
    "# plt.xlim(0,4)\n",
    "sns.despine()\n",
    "plt.tight_layout()\n",
    "\n",
    "\n",
    "plt.xlim(0, None)\n",
    "# plt.hist(df_all_rates[df_all_rates['Genotype'] == \"CTKO\"][\"Firing rate\"], n, color='red', alpha=0.5)\n",
    "mannwhitneyu(all_rates_wt, all_rates_ctko)"
   ]
  },
  {
   "cell_type": "code",
   "execution_count": 14,
   "metadata": {},
   "outputs": [
    {
     "name": "stdout",
     "output_type": "stream",
     "text": [
      "Mean Control: 1.15641679371668\n",
      "Median Control: 0.6667706258526307\n",
      "Mean ctko: 0.6399564340532031\n",
      "Median ctko: 0.3111814249755955\n"
     ]
    }
   ],
   "source": [
    "print(f\"Mean Control: {np.mean(all_rates_wt)}\")\n",
    "print(f\"Median Control: {np.median(all_rates_wt)}\")\n",
    "\n",
    "print(f\"Mean ctko: {np.mean(all_rates_ctko)}\")\n",
    "print(f\"Median ctko: {np.median(all_rates_ctko)}\")"
   ]
  },
  {
   "cell_type": "code",
   "execution_count": 15,
   "metadata": {},
   "outputs": [],
   "source": [
    "movement_paths = list((HERE.parent / \"cache\" ).glob(\"*-diffed.npy\"))\n",
    "\n",
    "movement_data = {}\n",
    "\n",
    "for path in movement_paths:\n",
    "\n",
    "    mouse = path.name.split(\"-\")[0]\n",
    "    assert mouse[:3] == \"J02\"\n",
    "\n",
    "    movement_data[mouse] = np.load(path)"
   ]
  },
  {
   "cell_type": "markdown",
   "metadata": {},
   "source": []
  },
  {
   "cell_type": "code",
   "execution_count": 16,
   "metadata": {},
   "outputs": [
    {
     "name": "stdout",
     "output_type": "stream",
     "text": [
      "J025\n",
      "0.24641040246705034\n",
      "\n",
      "\n",
      "J026\n",
      "0.038371080945943443\n",
      "\n",
      "\n",
      "J028\n",
      "0.061056686234930276\n",
      "\n",
      "\n",
      "J027\n",
      "0.04418600344450823\n",
      "\n",
      "\n",
      "J029\n",
      "0.29837589584992313\n",
      "\n",
      "\n",
      "J023\n",
      "0.271856886238634\n",
      "\n",
      "\n",
      "J024\n",
      "0.012518750347228652\n",
      "\n",
      "\n",
      "J022\n",
      "0.016426230115372507\n",
      "\n",
      "\n"
     ]
    }
   ],
   "source": [
    "\n",
    "plt.close('all')\n",
    "# plt.figure()\n",
    "wt_legend_done = False\n",
    "ctko_lend_done = False\n",
    "x = []\n",
    "y = []\n",
    "\n",
    "\n",
    "for mouse in movement_data.keys():\n",
    "    genotype = \"WT\" if int(mouse[3]) % 2 == 0 else \"CTKO\"\n",
    "    rates = data[mouse][\"data\"] \n",
    "    # rates = sum(rates < 100) / len(rates)\n",
    "    movement  = movement_data[mouse]\n",
    "    movement = moving_average(movement, 20)\n",
    "    movement = normalize(movement)\n",
    "\n",
    "    percent_moving = np.sum(movement > 0.1) / len(movement)\n",
    "    print(mouse)\n",
    "    print(percent_moving)\n",
    "    print('\\n')\n",
    "    # percent_moving = np.sum(movement)\n",
    "\n",
    "    if genotype == \"WT\" and not wt_legend_done:\n",
    "        label = \"WT\"\n",
    "    elif genotype == \"CTKO\" and not ctko_lend_done:\n",
    "        label = \"CTKO\"\n",
    "    else:\n",
    "        label = None\n",
    "\n",
    "    label = mouse\n",
    "    x.append(percent_moving)\n",
    "    y.append(np.mean(rates))\n",
    "\n",
    "\n",
    "    # plt.plot(percent_moving, np.mean(rates), \".\", color=\"blue\" if genotype == \"WT\" else \"orange\", label=label)\n",
    "    # plt.plot(percent_moving, np.mean(rates), \".\", label=label)\n",
    "\n",
    "    if genotype == \"WT\":\n",
    "        wt_legend_done = True\n",
    "    if genotype == \"CTKO\":\n",
    "        ctko_lend_done = True\n",
    "\n",
    "\n",
    "slope, intercept, r_value, p_value, std_err = linregress(x,y)\n",
    "\n",
    "x = np.linspace(0, 0.5)\n",
    "\n",
    "y = x * slope + intercept\n",
    "\n",
    "\n",
    "# plt.plot(x, y)\n",
    "\n",
    "# plt.savefig(f\"{type.strip(\".npy\")}\")\n",
    "# plt.xlabel(\"Percent moving\")\n",
    "# plt.ylabel(\"Mean firing rate\")\n",
    "# plt.legend()"
   ]
  },
  {
   "cell_type": "code",
   "execution_count": 17,
   "metadata": {},
   "outputs": [],
   "source": [
    "rows = []\n",
    "\n",
    "for mouse in movement_data.keys():\n",
    "    genotype = \"WT\" if int(mouse[3]) % 2 == 0 else \"CTKO\"\n",
    "\n",
    "    rates = data[mouse][\"data\"] \n",
    "    n_transients = data[mouse][\"n_transients\"] \n",
    "    # rates = sum(rates < 100) / len(rates)\n",
    "\n",
    "    movement  = movement_data[mouse]\n",
    "    movement = moving_average(movement, 100)\n",
    "    movement = normalize(movement)\n",
    "    percent_moving = sum(movement > 0.1) / len(movement)\n",
    "\n",
    "\n",
    "\n",
    "    # plt.figure()\n",
    "    # plt.plot(movement)\n",
    "    # plt.title(mouse)\n",
    "    # plt.axhline(0.1)\n",
    "\n",
    "    # rows.append({\n",
    "    #         \"subject\": mouse,\n",
    "    #         \"group\": genotype,\n",
    "    #         \"value\": np.median(rates),\n",
    "    #         \"percent_moving\": percent_moving,\n",
    "    #     })\n",
    "\n",
    "    rows.extend(\n",
    "        {\n",
    "            \"subject\": mouse,\n",
    "            \"group\": genotype,\n",
    "            \"value\": rate,\n",
    "            \"percent_moving\": percent_moving,\n",
    "        }\n",
    "        for rate in rates\n",
    "    )\n",
    "\n",
    "    # rows.extend(\n",
    "    #     {\n",
    "    #         \"subject\": mouse,\n",
    "    #         \"group\": genotype,\n",
    "    #         \"value\": n,\n",
    "    #         \"percent_moving\": percent_moving,\n",
    "    #     }\n",
    "    #     for n in n_transients\n",
    "    # )\n",
    "\n"
   ]
  },
  {
   "cell_type": "code",
   "execution_count": 18,
   "metadata": {},
   "outputs": [],
   "source": [
    "df = pd.DataFrame(rows)\n",
    "# df[\"movement_centered\"] = df[\"percent_moving\"] / max(df['percent_moving'])\n",
    "df['movement_centered'] = (df['percent_moving'] - df['percent_moving'].mean()) / df['percent_moving'].std()\n",
    "\n",
    "df['movement_centered_group'] = df.groupby('group')['percent_moving'].transform(lambda x:  (x - x.mean()) / x.std())"
   ]
  },
  {
   "cell_type": "code",
   "execution_count": 19,
   "metadata": {},
   "outputs": [],
   "source": [
    "plt.figure()\n",
    "df_movement_plot = df.drop_duplicates('subject')\n",
    "wt_movement = df_movement_plot[df_movement_plot['group'] == \"WT\"]['percent_moving']\n",
    "ctko_movement = df_movement_plot[df_movement_plot['group'] == \"CTKO\"]['percent_moving']\n",
    "\n",
    "movement_plot_data = {\"WT\":  wt_movement, \n",
    "                      \"CTKO\" : ctko_movement}\n",
    "\n",
    "sns.boxplot(movement_plot_data, showfliers=False)\n",
    "sns.stripplot(movement_plot_data, linewidth=1)\n",
    "plt.ylabel(\"Percent time moving\")\n",
    "sns.despine()\n",
    "plt.tight_layout()\n",
    "\n",
    "\n",
    "\n",
    "with open(HERE.parent / \"data_for_sam\"/ 'percent_moving.csv', mode=\"w\", newline=\"\") as file:\n",
    "    writer = csv.writer(file)\n",
    "    # Write headers\n",
    "    writer.writerow([\"Controls\", \"cTKO\"])\n",
    "    # Write rows\n",
    "    for control, ctko_value in zip_longest(wt_movement, ctko_movement, fillvalue=\"\"):\n",
    "        writer.writerow([control, ctko_value])"
   ]
  },
  {
   "cell_type": "code",
   "execution_count": 20,
   "metadata": {},
   "outputs": [
    {
     "data": {
      "text/plain": [
       "MannwhitneyuResult(statistic=np.float64(2.0), pvalue=np.float64(0.11428571428571428))"
      ]
     },
     "execution_count": 20,
     "metadata": {},
     "output_type": "execute_result"
    }
   ],
   "source": [
    "mannwhitneyu(movement_plot_data['WT'], movement_plot_data['CTKO'])"
   ]
  },
  {
   "cell_type": "code",
   "execution_count": 22,
   "metadata": {},
   "outputs": [],
   "source": [
    "# Mixed-effects model: group as fixed effect, movement as covariate, and subject as random effect\n",
    "model = smf.mixedlm(\n",
    "    # formula=\"value ~ group\",  # Fixed effects\n",
    "    formula=\"value ~ group\",  # Fixed effects\n",
    "    # formula=\"value ~ group\",  # Fixed effects\n",
    "    data=df,\n",
    "    groups=df[\"subject\"], # Random effects by subject\n",
    "    use_sqrt=True\n",
    "\n",
    ")\n",
    "result = model.fit(reml=True)"
   ]
  },
  {
   "cell_type": "code",
   "execution_count": 23,
   "metadata": {},
   "outputs": [],
   "source": [
    "df.to_csv(HERE.parent / \"data_for_sam\"/ 'data_for_model.csv')"
   ]
  },
  {
   "cell_type": "code",
   "execution_count": 24,
   "metadata": {},
   "outputs": [
    {
     "name": "stdout",
     "output_type": "stream",
     "text": [
      "         Mixed Linear Model Regression Results\n",
      "========================================================\n",
      "Model:            MixedLM Dependent Variable: value     \n",
      "No. Observations: 1412    Method:             REML      \n",
      "No. Groups:       8       Scale:              1.2354    \n",
      "Min. group size:  75      Log-Likelihood:     -2159.4416\n",
      "Max. group size:  295     Converged:          Yes       \n",
      "Mean group size:  176.5                                 \n",
      "--------------------------------------------------------\n",
      "                Coef. Std.Err.   z   P>|z| [0.025 0.975]\n",
      "--------------------------------------------------------\n",
      "Intercept       0.663    0.075 8.785 0.000  0.515  0.811\n",
      "group[T.WT]     0.489    0.105 4.651 0.000  0.283  0.695\n",
      "Group Var       0.014    0.012                          \n",
      "========================================================\n",
      "\n"
     ]
    }
   ],
   "source": [
    "print(result.summary())"
   ]
  },
  {
   "cell_type": "code",
   "execution_count": 68,
   "metadata": {},
   "outputs": [
    {
     "ename": "KeyError",
     "evalue": "'movement_centered_group'",
     "output_type": "error",
     "traceback": [
      "\u001b[0;31m---------------------------------------------------------------------------\u001b[0m",
      "\u001b[0;31mKeyError\u001b[0m                                  Traceback (most recent call last)",
      "File \u001b[0;32m~/Code/ctko/venv/lib/python3.12/site-packages/pandas/core/indexes/base.py:3805\u001b[0m, in \u001b[0;36mIndex.get_loc\u001b[0;34m(self, key)\u001b[0m\n\u001b[1;32m   3804\u001b[0m \u001b[38;5;28;01mtry\u001b[39;00m:\n\u001b[0;32m-> 3805\u001b[0m     \u001b[38;5;28;01mreturn\u001b[39;00m \u001b[38;5;28;43mself\u001b[39;49m\u001b[38;5;241;43m.\u001b[39;49m\u001b[43m_engine\u001b[49m\u001b[38;5;241;43m.\u001b[39;49m\u001b[43mget_loc\u001b[49m\u001b[43m(\u001b[49m\u001b[43mcasted_key\u001b[49m\u001b[43m)\u001b[49m\n\u001b[1;32m   3806\u001b[0m \u001b[38;5;28;01mexcept\u001b[39;00m \u001b[38;5;167;01mKeyError\u001b[39;00m \u001b[38;5;28;01mas\u001b[39;00m err:\n",
      "File \u001b[0;32mindex.pyx:167\u001b[0m, in \u001b[0;36mpandas._libs.index.IndexEngine.get_loc\u001b[0;34m()\u001b[0m\n",
      "File \u001b[0;32mindex.pyx:196\u001b[0m, in \u001b[0;36mpandas._libs.index.IndexEngine.get_loc\u001b[0;34m()\u001b[0m\n",
      "File \u001b[0;32mpandas/_libs/hashtable_class_helper.pxi:7081\u001b[0m, in \u001b[0;36mpandas._libs.hashtable.PyObjectHashTable.get_item\u001b[0;34m()\u001b[0m\n",
      "File \u001b[0;32mpandas/_libs/hashtable_class_helper.pxi:7089\u001b[0m, in \u001b[0;36mpandas._libs.hashtable.PyObjectHashTable.get_item\u001b[0;34m()\u001b[0m\n",
      "\u001b[0;31mKeyError\u001b[0m: 'movement_centered_group'",
      "\nThe above exception was the direct cause of the following exception:\n",
      "\u001b[0;31mKeyError\u001b[0m                                  Traceback (most recent call last)",
      "Cell \u001b[0;32mIn[68], line 2\u001b[0m\n\u001b[1;32m      1\u001b[0m beta_group \u001b[38;5;241m=\u001b[39m result\u001b[38;5;241m.\u001b[39mparams[\u001b[38;5;124m\"\u001b[39m\u001b[38;5;124mgroup[T.WT]\u001b[39m\u001b[38;5;124m\"\u001b[39m]  \u001b[38;5;66;03m# The effect of being in the WT group (relative to the baseline)\u001b[39;00m\n\u001b[0;32m----> 2\u001b[0m beta_movement \u001b[38;5;241m=\u001b[39m \u001b[43mresult\u001b[49m\u001b[38;5;241;43m.\u001b[39;49m\u001b[43mparams\u001b[49m\u001b[43m[\u001b[49m\u001b[38;5;124;43m\"\u001b[39;49m\u001b[38;5;124;43mmovement_centered_group\u001b[39;49m\u001b[38;5;124;43m\"\u001b[39;49m\u001b[43m]\u001b[49m  \u001b[38;5;66;03m# The effect of movement_centered on value\u001b[39;00m\n\u001b[1;32m      3\u001b[0m movement_effect \u001b[38;5;241m=\u001b[39m df[\u001b[38;5;124m\"\u001b[39m\u001b[38;5;124mmovement_centered\u001b[39m\u001b[38;5;124m\"\u001b[39m] \u001b[38;5;241m*\u001b[39m beta_movement\n\u001b[1;32m      5\u001b[0m df[\u001b[38;5;124m\"\u001b[39m\u001b[38;5;124mcorrected_value\u001b[39m\u001b[38;5;124m\"\u001b[39m] \u001b[38;5;241m=\u001b[39m df[\u001b[38;5;124m'\u001b[39m\u001b[38;5;124mvalue\u001b[39m\u001b[38;5;124m'\u001b[39m] \u001b[38;5;241m-\u001b[39m movement_effect\n",
      "File \u001b[0;32m~/Code/ctko/venv/lib/python3.12/site-packages/pandas/core/series.py:1121\u001b[0m, in \u001b[0;36mSeries.__getitem__\u001b[0;34m(self, key)\u001b[0m\n\u001b[1;32m   1118\u001b[0m     \u001b[38;5;28;01mreturn\u001b[39;00m \u001b[38;5;28mself\u001b[39m\u001b[38;5;241m.\u001b[39m_values[key]\n\u001b[1;32m   1120\u001b[0m \u001b[38;5;28;01melif\u001b[39;00m key_is_scalar:\n\u001b[0;32m-> 1121\u001b[0m     \u001b[38;5;28;01mreturn\u001b[39;00m \u001b[38;5;28;43mself\u001b[39;49m\u001b[38;5;241;43m.\u001b[39;49m\u001b[43m_get_value\u001b[49m\u001b[43m(\u001b[49m\u001b[43mkey\u001b[49m\u001b[43m)\u001b[49m\n\u001b[1;32m   1123\u001b[0m \u001b[38;5;66;03m# Convert generator to list before going through hashable part\u001b[39;00m\n\u001b[1;32m   1124\u001b[0m \u001b[38;5;66;03m# (We will iterate through the generator there to check for slices)\u001b[39;00m\n\u001b[1;32m   1125\u001b[0m \u001b[38;5;28;01mif\u001b[39;00m is_iterator(key):\n",
      "File \u001b[0;32m~/Code/ctko/venv/lib/python3.12/site-packages/pandas/core/series.py:1237\u001b[0m, in \u001b[0;36mSeries._get_value\u001b[0;34m(self, label, takeable)\u001b[0m\n\u001b[1;32m   1234\u001b[0m     \u001b[38;5;28;01mreturn\u001b[39;00m \u001b[38;5;28mself\u001b[39m\u001b[38;5;241m.\u001b[39m_values[label]\n\u001b[1;32m   1236\u001b[0m \u001b[38;5;66;03m# Similar to Index.get_value, but we do not fall back to positional\u001b[39;00m\n\u001b[0;32m-> 1237\u001b[0m loc \u001b[38;5;241m=\u001b[39m \u001b[38;5;28;43mself\u001b[39;49m\u001b[38;5;241;43m.\u001b[39;49m\u001b[43mindex\u001b[49m\u001b[38;5;241;43m.\u001b[39;49m\u001b[43mget_loc\u001b[49m\u001b[43m(\u001b[49m\u001b[43mlabel\u001b[49m\u001b[43m)\u001b[49m\n\u001b[1;32m   1239\u001b[0m \u001b[38;5;28;01mif\u001b[39;00m is_integer(loc):\n\u001b[1;32m   1240\u001b[0m     \u001b[38;5;28;01mreturn\u001b[39;00m \u001b[38;5;28mself\u001b[39m\u001b[38;5;241m.\u001b[39m_values[loc]\n",
      "File \u001b[0;32m~/Code/ctko/venv/lib/python3.12/site-packages/pandas/core/indexes/base.py:3812\u001b[0m, in \u001b[0;36mIndex.get_loc\u001b[0;34m(self, key)\u001b[0m\n\u001b[1;32m   3807\u001b[0m     \u001b[38;5;28;01mif\u001b[39;00m \u001b[38;5;28misinstance\u001b[39m(casted_key, \u001b[38;5;28mslice\u001b[39m) \u001b[38;5;129;01mor\u001b[39;00m (\n\u001b[1;32m   3808\u001b[0m         \u001b[38;5;28misinstance\u001b[39m(casted_key, abc\u001b[38;5;241m.\u001b[39mIterable)\n\u001b[1;32m   3809\u001b[0m         \u001b[38;5;129;01mand\u001b[39;00m \u001b[38;5;28many\u001b[39m(\u001b[38;5;28misinstance\u001b[39m(x, \u001b[38;5;28mslice\u001b[39m) \u001b[38;5;28;01mfor\u001b[39;00m x \u001b[38;5;129;01min\u001b[39;00m casted_key)\n\u001b[1;32m   3810\u001b[0m     ):\n\u001b[1;32m   3811\u001b[0m         \u001b[38;5;28;01mraise\u001b[39;00m InvalidIndexError(key)\n\u001b[0;32m-> 3812\u001b[0m     \u001b[38;5;28;01mraise\u001b[39;00m \u001b[38;5;167;01mKeyError\u001b[39;00m(key) \u001b[38;5;28;01mfrom\u001b[39;00m \u001b[38;5;21;01merr\u001b[39;00m\n\u001b[1;32m   3813\u001b[0m \u001b[38;5;28;01mexcept\u001b[39;00m \u001b[38;5;167;01mTypeError\u001b[39;00m:\n\u001b[1;32m   3814\u001b[0m     \u001b[38;5;66;03m# If we have a listlike key, _check_indexing_error will raise\u001b[39;00m\n\u001b[1;32m   3815\u001b[0m     \u001b[38;5;66;03m#  InvalidIndexError. Otherwise we fall through and re-raise\u001b[39;00m\n\u001b[1;32m   3816\u001b[0m     \u001b[38;5;66;03m#  the TypeError.\u001b[39;00m\n\u001b[1;32m   3817\u001b[0m     \u001b[38;5;28mself\u001b[39m\u001b[38;5;241m.\u001b[39m_check_indexing_error(key)\n",
      "\u001b[0;31mKeyError\u001b[0m: 'movement_centered_group'"
     ]
    }
   ],
   "source": [
    "beta_group = result.params[\"group[T.WT]\"]  # The effect of being in the WT group (relative to the baseline)\n",
    "beta_movement = result.params[\"movement_centered_group\"]  # The effect of movement_centered on value\n",
    "movement_effect = df[\"movement_centered\"] * beta_movement\n",
    "\n",
    "df[\"corrected_value\"] = df['value'] - movement_effect\n",
    "df['fitted_value'] = result.fittedvalues - movement_effect"
   ]
  },
  {
   "cell_type": "code",
   "execution_count": 62,
   "metadata": {},
   "outputs": [],
   "source": [
    "plt.clf()\n",
    "sns.boxplot(x='group', y='corrected_value', hue='subject', data=df, dodge=True, legend=True)\n",
    "sns.stripplot(x='group', y='corrected_value', hue='subject', data=df, dodge=True, legend=False)\n",
    "\n",
    "plt.show()"
   ]
  },
  {
   "cell_type": "code",
   "execution_count": null,
   "metadata": {},
   "outputs": [],
   "source": [
    "fixed_effects = model.fit().params\n",
    "movement_effect = fixed_effects[\"movement_centered_group\"] * df[\"movement_centered_group\"]\n"
   ]
  }
 ],
 "metadata": {
  "kernelspec": {
   "display_name": "venv",
   "language": "python",
   "name": "python3"
  },
  "language_info": {
   "codemirror_mode": {
    "name": "ipython",
    "version": 3
   },
   "file_extension": ".py",
   "mimetype": "text/x-python",
   "name": "python",
   "nbconvert_exporter": "python",
   "pygments_lexer": "ipython3",
   "version": "3.12.7"
  }
 },
 "nbformat": 4,
 "nbformat_minor": 2
}
