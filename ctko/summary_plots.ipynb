{
 "cells": [
  {
   "cell_type": "code",
   "execution_count": 2,
   "metadata": {},
   "outputs": [],
   "source": [
    "%reload_ext autoreload\n",
    "%autoreload 2\n",
    "%matplotlib qt \n",
    "\n",
    "import sys\n",
    "import numpy as np\n",
    "import matplotlib.pyplot as plt\n",
    "import seaborn as sns\n",
    "\n",
    "from consts import HERE\n",
    "\n",
    "sys.path.append(str(HERE.parent))\n",
    "import pandas as pd"
   ]
  },
  {
   "cell_type": "code",
   "execution_count": null,
   "metadata": {},
   "outputs": [],
   "source": [
    "# plt.clf()\n",
    "# plt.figure()\n",
    "# idx = 90\n",
    "# time = 10000\n",
    "# flu = moving_average(dff[idx, :time] - np.min(dff[idx, :time]), 10)\n",
    "# c = deconv[idx, :time]\n",
    "\n",
    "# plt.plot(flu, color='blue', alpha=0.7)\n",
    "# plt.plot(c, color='red')"
   ]
  },
  {
   "cell_type": "code",
   "execution_count": null,
   "metadata": {},
   "outputs": [],
   "source": [
    "def normalize(data):\n",
    "    return (data - np.min(data)) / (np.max(data) - np.min(data))"
   ]
  },
  {
   "cell_type": "code",
   "execution_count": null,
   "metadata": {},
   "outputs": [
    {
     "name": "stdout",
     "output_type": "stream",
     "text": [
      "[PosixPath('/Users/jamesrowland/Code/ctko/cache/activity_suite2p_rates/J026-2024-10-24-resting-rates.npy'), PosixPath('/Users/jamesrowland/Code/ctko/cache/activity_suite2p_rates/J025-2024-09-27-resting-rates.npy'), PosixPath('/Users/jamesrowland/Code/ctko/cache/activity_suite2p_rates/J023-2024-09-27-resting-rates.npy'), PosixPath('/Users/jamesrowland/Code/ctko/cache/activity_suite2p_rates/J022-2024-09-27-resting-rates.npy'), PosixPath('/Users/jamesrowland/Code/ctko/cache/activity_suite2p_rates/J029-2024-10-25-resting-rates.npy'), PosixPath('/Users/jamesrowland/Code/ctko/cache/activity_suite2p_rates/J024-2024-10-09-resting-rates.npy'), PosixPath('/Users/jamesrowland/Code/ctko/cache/activity_suite2p_rates/J027-2024-10-09-resting-rates.npy')]\n"
     ]
    }
   ],
   "source": [
    "# rate_paths = list((HERE.parent / \"cache\"  ).glob(\"*-all-spike-rate.npy\"))\n",
    "\n",
    "# type = 'all-spike-rate.npy'\n",
    "type = 'resting-rates.npy'\n",
    "\n",
    "suite2p_type = \"activity_suite2p_rates\"\n",
    "\n",
    "if suite2p_type != \"activity_suite2p_rates\":\n",
    "    rate_paths = list((HERE.parent / \"cache\").glob(f\"*-{type}\"))\n",
    "else:\n",
    "    rate_paths = list((HERE.parent /  \"cache\" / suite2p_type).glob(f\"*-{type}\"))\n",
    "\n",
    "\n",
    "print(rate_paths)\n",
    "\n",
    "wt_color = sns.color_palette(\"muted\")[0]\n",
    "ctko_color = sns.color_palette(\"muted\")[1]\n",
    "\n",
    "data = {}\n",
    "palette = {}\n",
    "\n",
    "for path in rate_paths:\n",
    "    mouse = path.name.split(\"-\")[0]\n",
    "    assert mouse[:3] == \"J02\"\n",
    "\n",
    "    # Even numbers are WT\n",
    "    genotype = \"WT\" if int(mouse[3]) % 2 == 0 else \"CTKO\"\n",
    "    data[mouse] = {\"genotype\": genotype, \"data\": np.load(path)}\n",
    "    palette[mouse] = wt_color if genotype == \"WT\" else ctko_color\n",
    "\n",
    "\n",
    "\n",
    "df = pd.concat(\n",
    "    [\n",
    "        pd.DataFrame({\"Subject\": subject, \"Genotype\": info[\"genotype\"], \"Firing rate\": info[\"data\"]})\n",
    "        for subject, info in data.items()\n",
    "    ],\n",
    ").reset_index(drop=True)\n"
   ]
  },
  {
   "cell_type": "code",
   "execution_count": null,
   "metadata": {},
   "outputs": [],
   "source": [
    "plt.figure(figsize=(10, 6))\n",
    "genotype_colors = {'WT': 'green', 'CTKO': 'orange'}\n",
    "ax = sns.boxplot(x='Genotype', y='Firing rate', hue='Subject', data=df, dodge=True, showfliers=False, legend=True)\n",
    "plt.ylabel(\"Firing rate (all time points)\")\n",
    "plt.savefig(HERE.parent / \"figures\"/ f\"rates {suite2p_type} {type.strip(\".npy\")}\")\n"
   ]
  },
  {
   "cell_type": "code",
   "execution_count": null,
   "metadata": {},
   "outputs": [],
   "source": [
    "\n",
    "movement_paths = list((HERE.parent /   \"cache\" ).glob(\"*-diffed.npy\"))\n",
    "\n",
    "movement_data = {}\n",
    "\n",
    "for path in movement_paths:\n",
    "    mouse = path.name.split(\"-\")[0]\n",
    "    assert mouse[:3] == \"J02\"\n",
    "\n",
    "    movement_data[mouse] = np.load(path)"
   ]
  },
  {
   "cell_type": "code",
   "execution_count": null,
   "metadata": {},
   "outputs": [
    {
     "ename": "NameError",
     "evalue": "name 'movement_data' is not defined",
     "output_type": "error",
     "traceback": [
      "\u001b[0;31m---------------------------------------------------------------------------\u001b[0m\n",
      "\u001b[0;31mNameError\u001b[0m                                 Traceback (most recent call last)\n",
      "Cell \u001b[0;32mIn[20], line 5\u001b[0m\n",
      "\u001b[1;32m      3\u001b[0m wt_legend_done \u001b[38;5;241m=\u001b[39m \u001b[38;5;28;01mFalse\u001b[39;00m\n",
      "\u001b[1;32m      4\u001b[0m ctko_lend_done \u001b[38;5;241m=\u001b[39m \u001b[38;5;28;01mFalse\u001b[39;00m\n",
      "\u001b[0;32m----> 5\u001b[0m \u001b[38;5;28;01mfor\u001b[39;00m mouse \u001b[38;5;129;01min\u001b[39;00m \u001b[43mmovement_data\u001b[49m\u001b[38;5;241m.\u001b[39mkeys():\n",
      "\u001b[1;32m      6\u001b[0m     \u001b[38;5;28mprint\u001b[39m(mouse)\n",
      "\u001b[1;32m      8\u001b[0m     genotype \u001b[38;5;241m=\u001b[39m \u001b[38;5;124m\"\u001b[39m\u001b[38;5;124mWT\u001b[39m\u001b[38;5;124m\"\u001b[39m \u001b[38;5;28;01mif\u001b[39;00m \u001b[38;5;28mint\u001b[39m(mouse[\u001b[38;5;241m3\u001b[39m]) \u001b[38;5;241m%\u001b[39m \u001b[38;5;241m2\u001b[39m \u001b[38;5;241m==\u001b[39m \u001b[38;5;241m0\u001b[39m \u001b[38;5;28;01melse\u001b[39;00m \u001b[38;5;124m\"\u001b[39m\u001b[38;5;124mCTKO\u001b[39m\u001b[38;5;124m\"\u001b[39m\n",
      "\n",
      "\u001b[0;31mNameError\u001b[0m: name 'movement_data' is not defined"
     ]
    }
   ],
   "source": [
    "plt.close('all')\n",
    "plt.figure()\n",
    "wt_legend_done = False\n",
    "ctko_lend_done = False\n",
    "for mouse in movement_data.keys():\n",
    "    print(mouse)\n",
    "\n",
    "    genotype = \"WT\" if int(mouse[3]) % 2 == 0 else \"CTKO\"\n",
    "    print(genotype)\n",
    "    print(genotype == \"WT\")\n",
    "    rates = data[mouse][\"data\"]\n",
    "    movement  = movement_data[mouse]\n",
    "    movement = normalize(movement)\n",
    "    # movement = moving_average(movement, 10)\n",
    "    \n",
    "    percent_moving = np.sum(movement > 0.1) / len(movement)\n",
    "\n",
    "    if genotype == \"WT\" and not wt_legend_done:\n",
    "        label = \"WT\"\n",
    "    elif genotype == \"CTKO\" and not ctko_lend_done:\n",
    "        label = \"CTKO\"\n",
    "    else:\n",
    "        label = None\n",
    "    print(label)\n",
    "\n",
    "\n",
    "    plt.plot(percent_moving, np.mean(rates), \".\", color=\"blue\" if genotype == \"WT\" else \"orange\", label=label)\n",
    "\n",
    "    if genotype == \"WT\":\n",
    "        wt_legend_done = True\n",
    "    if genotype == \"CTKO\":\n",
    "        ctko_lend_done = True\n",
    "    \n",
    "    print(\"\\n\")\n",
    "\n",
    "\n",
    "plt.savefig(f\"{type}\")\n",
    "plt.xlabel(\"Percent moving\")\n",
    "plt.ylabel(\"Mean firing rate\")\n",
    "plt.legend()"
   ]
  }
 ],
 "metadata": {
  "kernelspec": {
   "display_name": "venv",
   "language": "python",
   "name": "python3"
  },
  "language_info": {
   "codemirror_mode": {
    "name": "ipython",
    "version": 3
   },
   "file_extension": ".py",
   "mimetype": "text/x-python",
   "name": "python",
   "nbconvert_exporter": "python",
   "pygments_lexer": "ipython3",
   "version": "3.12.7"
  }
 },
 "nbformat": 4,
 "nbformat_minor": 2
}
