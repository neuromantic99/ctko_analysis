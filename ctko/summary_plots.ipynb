{
 "cells": [
  {
   "cell_type": "code",
   "execution_count": 11,
   "metadata": {},
   "outputs": [],
   "source": [
    "%reload_ext autoreload\n",
    "%autoreload 2\n",
    "%matplotlib qt \n",
    "\n",
    "from typing import List, Tuple\n",
    "from itertools import zip_longest\n",
    "import sys\n",
    "import numpy as np\n",
    "import matplotlib.pyplot as plt\n",
    "import csv\n",
    "import seaborn as sns\n",
    "from scipy.stats import skew, zscore, linregress,mannwhitneyu\n",
    "import statsmodels.api as sm\n",
    "import statsmodels.formula.api as smf\n",
    "\n",
    "from consts import HERE\n",
    "\n",
    "sys.path.append(str(HERE.parent))\n",
    "import pandas as pd\n",
    "\n",
    "from ctko.utils import moving_average\n",
    "sns.set_theme(context=\"talk\", style=\"ticks\")"
   ]
  },
  {
   "cell_type": "code",
   "execution_count": 12,
   "metadata": {},
   "outputs": [],
   "source": [
    "# plt.clf()\n",
    "# plt.figure()\n",
    "# idx = 90\n",
    "# time = 10000\n",
    "# flu = moving_average(dff[idx, :time] - np.min(dff[idx, :time]), 10)\n",
    "# c = deconv[idx, :time]\n",
    "\n",
    "# plt.plot(flu, color='blue', alpha=0.7)\n",
    "# plt.plot(c, color='red')"
   ]
  },
  {
   "cell_type": "code",
   "execution_count": 13,
   "metadata": {},
   "outputs": [],
   "source": [
    "def normalize(data):\n",
    "    return (data - np.min(data)) / (np.max(data) - np.min(data))"
   ]
  },
  {
   "cell_type": "code",
   "execution_count": 14,
   "metadata": {},
   "outputs": [],
   "source": [
    "type = 'all-spike-rate.npy'\n",
    "# type = 'moving-rates.npy'\n",
    "# type = 'resting-rates.npy'\n",
    "\n",
    "suite2p_type = \"cellpose\"\n",
    "\n",
    "correlation_paths = list(\n",
    "    (HERE.parent / \"cache\").glob(\"*-correlation_coeff.npy\")\n",
    ")\n",
    "\n",
    "n_transients_paths = list((HERE.parent / \"cache\").glob(\"*-n-transients.npy\"))\n",
    "if suite2p_type != \"activity_suite2p_rates\":\n",
    "    rate_paths = list((HERE.parent / \"cache\").glob(f\"*-{type}\"))\n",
    "else:\n",
    "    rate_paths = list((HERE.parent /  \"cache\" / suite2p_type).glob(f\"*-{type}\"))\n",
    "\n",
    "\n",
    "wt_color = sns.color_palette(\"muted\")[0]\n",
    "ctko_color = sns.color_palette(\"muted\")[1]\n",
    "\n",
    "data = {}\n",
    "palette = {}\n",
    "\n",
    "correlations_wt = []\n",
    "correlations_ctko = []\n",
    "\n",
    "n_transients_wt = []\n",
    "n_transients_ctko = []\n",
    "\n",
    "for path in rate_paths:\n",
    "    mouse = path.name.split(\"-\")[0]\n",
    "    assert mouse[:3] == \"J02\"\n",
    "    correlation_path = [path for path in correlation_paths if mouse in str(path)]\n",
    "    n_transients_path = [path for path in n_transients_paths if mouse in str(path)]\n",
    "    n_frames = 50912 if mouse == \"J025\" else 54000 \n",
    "    assert len(correlation_path) == 1\n",
    "\n",
    "    # Even numbers are WT\n",
    "    genotype = \"WT\" if int(mouse[3]) % 2 == 0 else \"CTKO\"\n",
    "    rate_vector = np.load(path)\n",
    "    data[mouse] = {\"genotype\": genotype, \"data\": rate_vector}\n",
    "    palette[mouse] = wt_color if genotype == \"WT\" else ctko_color\n",
    "\n",
    "    if genotype == \"WT\":\n",
    "        correlations_wt.append(np.load(correlation_path[0]).item())\n",
    "        n_transients_wt.extend(np.load(n_transients_path[0]) / (n_frames / 30))\n",
    "\n",
    "    elif genotype == \"CTKO\":\n",
    "        correlations_ctko.append(np.load(correlation_path[0]).item())\n",
    "        n_transients_ctko.extend(np.load(n_transients_path[0]) / (n_frames / 30))\n",
    "\n",
    "df_all_rates = pd.concat(\n",
    "    [\n",
    "        pd.DataFrame({\"Subject\": subject, \"Genotype\": info[\"genotype\"], \"Firing rate\": info[\"data\"]})\n",
    "        for subject, info in data.items()\n",
    "    ],\n",
    ").reset_index(drop=True)\n",
    "\n",
    "all_rates_wt = df_all_rates[df_all_rates['Genotype'] == \"WT\"][\"Firing rate\"]\n",
    "all_rates_ctko = df_all_rates[df_all_rates['Genotype'] == \"CTKO\"][\"Firing rate\"]\n",
    "\n"
   ]
  },
  {
   "cell_type": "code",
   "execution_count": 15,
   "metadata": {},
   "outputs": [],
   "source": [
    "df_all_rates\n",
    "df_all_rates.to_csv(HERE.parent / \"data_for_sam\"/ 'subject_firing_rates.csv', sep='\\t')\n"
   ]
  },
  {
   "cell_type": "code",
   "execution_count": null,
   "metadata": {},
   "outputs": [],
   "source": []
  },
  {
   "cell_type": "code",
   "execution_count": null,
   "metadata": {},
   "outputs": [],
   "source": [
    "with open(HERE.parent / \"data_for_sam\"/ 'firing_rates.csv', mode=\"w\", newline=\"\") as file:\n",
    "    writer = csv.writer(file)\n",
    "    # Write headers\n",
    "    writer.writerow([\"Controls\", \"cTKO\"])\n",
    "    # Write rows\n",
    "    for control, ctko_value in zip_longest(all_rates_wt, all_rates_ctko, fillvalue=\"\"):\n",
    "        writer.writerow([control, ctko_value])"
   ]
  },
  {
   "cell_type": "code",
   "execution_count": 6,
   "metadata": {},
   "outputs": [
    {
     "data": {
      "text/plain": [
       "Text(0, 0.5, 'Average Correlation Coffecient')"
      ]
     },
     "execution_count": 6,
     "metadata": {},
     "output_type": "execute_result"
    }
   ],
   "source": [
    "sns.boxplot({\"WT\": correlations_wt, \"CTKO\": correlations_ctko}, showfliers= False)\n",
    "sns.stripplot({\"WT\": correlations_wt, \"CTKO\": correlations_ctko}, linewidth=1)\n",
    "plt.ylabel(\"Average Correlation Coffecient\")\n"
   ]
  },
  {
   "cell_type": "code",
   "execution_count": null,
   "metadata": {},
   "outputs": [],
   "source": [
    "sns.kdeplot(n_transients_wt,fill=True, label='WT')\n",
    "sns.kdeplot(n_transients_ctko,fill=True, label=\"CTKO\")\n",
    "plt.legend()\n",
    "sns.despine()\n",
    "plt.tight_layout()\n",
    "plt.xlabel(\"Number of calcium transients / second\")\n",
    "\n",
    "\n",
    "plt.xlim(0, None)\n",
    "\n",
    "with open(HERE.parent / \"data_for_sam\"/ 'number_of_transients.csv', mode=\"w\", newline=\"\") as file:\n",
    "    writer = csv.writer(file)\n",
    "    # Write headers\n",
    "    writer.writerow([\"Controls\", \"cTKO\"])\n",
    "    # Write rows\n",
    "    for control, ctko_value in zip_longest(n_transients_wt, n_transients_ctko, fillvalue=\"\"):\n",
    "        writer.writerow([control, ctko_value])\n",
    "\n",
    "data_loaded = pd.read_csv(HERE.parent / \"data_for_sam\"/ 'number_of_transients.csv')\n"
   ]
  },
  {
   "cell_type": "code",
   "execution_count": null,
   "metadata": {},
   "outputs": [
    {
     "name": "stdout",
     "output_type": "stream",
     "text": [
      "Mean Control: 0.2022080346475508\n",
      "Median Control: 0.1875\n",
      "Mean ctko: 0.08060334025015128\n",
      "Median ctko: 0.043611111111111114\n"
     ]
    }
   ],
   "source": [
    "print(f\"Mean Control: {np.mean(n_transients_wt)}\")\n",
    "print(f\"Median Control: {np.median(n_transients_wt)}\")\n",
    "print(f\"Mean ctko: {np.mean(n_transients_ctko)}\")\n",
    "print(f\"Median ctko: {np.median(n_transients_ctko)}\")"
   ]
  },
  {
   "cell_type": "code",
   "execution_count": null,
   "metadata": {},
   "outputs": [
    {
     "data": {
      "text/plain": [
       "(0.0, 0.7693813796263904)"
      ]
     },
     "execution_count": 36,
     "metadata": {},
     "output_type": "execute_result"
    }
   ],
   "source": [
    "sns.kdeplot(data_loaded['Controls'],fill=True, label='WT')\n",
    "sns.kdeplot(data_loaded['cTKO'],fill=True, label=\"CTKO\")\n",
    "plt.legend()\n",
    "sns.despine()\n",
    "plt.tight_layout()\n",
    "plt.xlabel(\"Number of calcium transients / second\")\n",
    "plt.xlim(0, None)\n"
   ]
  },
  {
   "cell_type": "code",
   "execution_count": null,
   "metadata": {},
   "outputs": [],
   "source": [
    "plt.figure()\n",
    "genotype_colors = {'WT': 'green', 'CTKO': 'orange'}\n",
    "ax = sns.boxplot(x='Genotype', y='Firing rate', hue='Subject', data=df_all_rates, dodge=True, showfliers=False, legend=False)\n",
    "sns.stripplot(x='Genotype', y='Firing rate', hue='Subject', data=df_all_rates, dodge=True, legend=False, alpha=0.5)\n",
    "sns.despine()\n",
    "plt.tight_layout()\n",
    "plt.ylabel(f\"Firing rate {type.strip(\".npy\").replace(\"-\" , \" \")}\")\n",
    "plt.savefig(HERE.parent / \"figures\"/ f\"rates {suite2p_type} {type.strip(\".npy\")}\")"
   ]
  },
  {
   "cell_type": "code",
   "execution_count": 26,
   "metadata": {},
   "outputs": [
    {
     "data": {
      "text/plain": [
       "MannwhitneyuResult(statistic=np.float64(360113.0), pvalue=np.float64(3.2233554009913986e-48))"
      ]
     },
     "execution_count": 26,
     "metadata": {},
     "output_type": "execute_result"
    }
   ],
   "source": [
    "n = 100\n",
    "plt.figure()\n",
    "\n",
    "sns.kdeplot(all_rates_wt,fill=True, label='WT')\n",
    "sns.kdeplot(all_rates_ctko,fill=True, label=\"CTKO\")\n",
    "plt.legend()\n",
    "sns.despine()\n",
    "plt.tight_layout()\n",
    "\n",
    "\n",
    "plt.xlim(0, None)\n",
    "# plt.hist(df_all_rates[df_all_rates['Genotype'] == \"CTKO\"][\"Firing rate\"], n, color='red', alpha=0.5)\n",
    "mannwhitneyu(all_rates_wt, all_rates_ctko)"
   ]
  },
  {
   "cell_type": "code",
   "execution_count": 25,
   "metadata": {},
   "outputs": [
    {
     "name": "stdout",
     "output_type": "stream",
     "text": [
      "Mean Control: 0.8283696121811271\n",
      "Median Control: 0.6282891815348031\n",
      "Mean ctko: 0.4197037070599423\n",
      "Median ctko: 0.19994623411904594\n"
     ]
    }
   ],
   "source": [
    "print(f\"Mean Control: {np.mean(all_rates_wt)}\")\n",
    "print(f\"Median Control: {np.median(all_rates_wt)}\")\n",
    "\n",
    "print(f\"Mean ctko: {np.mean(all_rates_ctko)}\")\n",
    "print(f\"Median ctko: {np.median(all_rates_ctko)}\")"
   ]
  },
  {
   "cell_type": "code",
   "execution_count": 16,
   "metadata": {},
   "outputs": [],
   "source": [
    "movement_paths = list((HERE.parent / \"cache\" ).glob(\"*-diffed.npy\"))\n",
    "\n",
    "movement_data = {}\n",
    "\n",
    "for path in movement_paths:\n",
    "\n",
    "    mouse = path.name.split(\"-\")[0]\n",
    "    assert mouse[:3] == \"J02\"\n",
    "\n",
    "    movement_data[mouse] = np.load(path)"
   ]
  },
  {
   "cell_type": "code",
   "execution_count": 17,
   "metadata": {},
   "outputs": [],
   "source": [
    "\n",
    "plt.close('all')\n",
    "# plt.figure()\n",
    "wt_legend_done = False\n",
    "ctko_lend_done = False\n",
    "x = []\n",
    "y = []\n",
    "\n",
    "\n",
    "for mouse in movement_data.keys():\n",
    "    genotype = \"WT\" if int(mouse[3]) % 2 == 0 else \"CTKO\"\n",
    "    rates = data[mouse][\"data\"] \n",
    "    # rates = sum(rates < 100) / len(rates)\n",
    "    movement  = movement_data[mouse]\n",
    "    movement = moving_average(movement, 100)\n",
    "    movement = normalize(movement)\n",
    "\n",
    "    percent_moving = np.sum(movement > 0.1) / len(movement)\n",
    "    # percent_moving = np.sum(movement)\n",
    "\n",
    "    if genotype == \"WT\" and not wt_legend_done:\n",
    "        label = \"WT\"\n",
    "    elif genotype == \"CTKO\" and not ctko_lend_done:\n",
    "        label = \"CTKO\"\n",
    "    else:\n",
    "        label = None\n",
    "\n",
    "    label = mouse\n",
    "    x.append(percent_moving)\n",
    "    y.append(np.mean(rates))\n",
    "\n",
    "    # plt.plot(percent_moving, np.mean(rates), \".\", color=\"blue\" if genotype == \"WT\" else \"orange\", label=label)\n",
    "    # plt.plot(percent_moving, np.mean(rates), \".\", label=label)\n",
    "\n",
    "    if genotype == \"WT\":\n",
    "        wt_legend_done = True\n",
    "    if genotype == \"CTKO\":\n",
    "        ctko_lend_done = True\n",
    "\n",
    "\n",
    "slope, intercept, r_value, p_value, std_err = linregress(x,y)\n",
    "\n",
    "x = np.linspace(0, 0.5)\n",
    "\n",
    "y = x * slope + intercept\n",
    "\n",
    "\n",
    "# plt.plot(x, y)\n",
    "\n",
    "# plt.savefig(f\"{type.strip(\".npy\")}\")\n",
    "# plt.xlabel(\"Percent moving\")\n",
    "# plt.ylabel(\"Mean firing rate\")\n",
    "# plt.legend()"
   ]
  },
  {
   "cell_type": "code",
   "execution_count": 18,
   "metadata": {},
   "outputs": [],
   "source": [
    "rows = []\n",
    "\n",
    "for mouse in movement_data.keys():\n",
    "    genotype = \"WT\" if int(mouse[3]) % 2 == 0 else \"CTKO\"\n",
    "\n",
    "    rates = data[mouse][\"data\"] \n",
    "\n",
    "    # rates = sum(rates < 100) / len(rates)\n",
    "\n",
    "    movement  = movement_data[mouse]\n",
    "    movement = moving_average(movement, 100)\n",
    "    movement = normalize(movement)\n",
    "    percent_moving = sum(movement > 0.1) / len(movement)\n",
    "\n",
    "\n",
    "\n",
    "    # plt.figure()\n",
    "    # plt.plot(movement)\n",
    "    # plt.title(mouse)\n",
    "    # plt.axhline(0.1)\n",
    "\n",
    "    # rows.append({\n",
    "    #         \"subject\": mouse,\n",
    "    #         \"group\": genotype,\n",
    "    #         \"value\": np.median(rates),\n",
    "    #         \"percent_moving\": percent_moving,\n",
    "    #     })\n",
    "\n",
    "    rows.extend(\n",
    "        {\n",
    "            \"subject\": mouse,\n",
    "            \"group\": genotype,\n",
    "            \"value\": rate,\n",
    "            \"percent_moving\": percent_moving,\n",
    "        }\n",
    "        for rate in rates\n",
    "    )\n",
    "\n"
   ]
  },
  {
   "cell_type": "code",
   "execution_count": 19,
   "metadata": {},
   "outputs": [],
   "source": [
    "df = pd.DataFrame(rows)\n",
    "# df[\"movement_centered\"] = df[\"percent_moving\"] / max(df['percent_moving'])\n",
    "df['movement_centered'] = (df['percent_moving'] - df['percent_moving'].mean()) / df['percent_moving'].std()\n",
    "\n",
    "df['movement_centered_group'] = df.groupby('group')['percent_moving'].transform(lambda x:  (x - x.mean()) / x.std())"
   ]
  },
  {
   "cell_type": "code",
   "execution_count": 20,
   "metadata": {},
   "outputs": [],
   "source": [
    "plt.figure()\n",
    "df_movement_plot = df.drop_duplicates('subject')\n",
    "wt_movement = df_movement_plot[df_movement_plot['group'] == \"WT\"]['percent_moving']\n",
    "ctko_movement = df_movement_plot[df_movement_plot['group'] == \"CTKO\"]['percent_moving']\n",
    "\n",
    "movement_plot_data = {\"WT\":  wt_movement, \n",
    "                      \"CTKO\" : ctko_movement}\n",
    "\n",
    "sns.boxplot(movement_plot_data, showfliers=False)\n",
    "sns.stripplot(movement_plot_data, linewidth=1)\n",
    "plt.ylabel(\"Percent time moving\")\n",
    "sns.despine()\n",
    "plt.tight_layout()\n",
    "\n",
    "\n",
    "\n",
    "with open(HERE.parent / \"data_for_sam\"/ 'percent_moving.csv', mode=\"w\", newline=\"\") as file:\n",
    "    writer = csv.writer(file)\n",
    "    # Write headers\n",
    "    writer.writerow([\"Controls\", \"cTKO\"])\n",
    "    # Write rows\n",
    "    for control, ctko_value in zip_longest(wt_movement, ctko_movement, fillvalue=\"\"):\n",
    "        writer.writerow([control, ctko_value])"
   ]
  },
  {
   "cell_type": "code",
   "execution_count": 29,
   "metadata": {},
   "outputs": [
    {
     "data": {
      "text/plain": [
       "MannwhitneyuResult(statistic=np.float64(2.0), pvalue=np.float64(0.11428571428571428))"
      ]
     },
     "execution_count": 29,
     "metadata": {},
     "output_type": "execute_result"
    }
   ],
   "source": [
    "mannwhitneyu(movement_plot_data['WT'], movement_plot_data['CTKO'])"
   ]
  },
  {
   "cell_type": "code",
   "execution_count": 21,
   "metadata": {},
   "outputs": [],
   "source": [
    "# Mixed-effects model: group as fixed effect, movement as covariate, and subject as random effect\n",
    "model = smf.mixedlm(\n",
    "    formula=\"value ~ group * movement_centered_group\",  # Fixed effects\n",
    "    # formula=\"value ~ group + movement_centered\",  # Fixed effects\n",
    "    # formula=\"value ~ group\",  # Fixed effects\n",
    "    data=df,\n",
    "    groups=df[\"subject\"], # Random effects by subject\n",
    "    use_sqrt=True\n",
    "\n",
    ")\n",
    "result = model.fit(reml=True)"
   ]
  },
  {
   "cell_type": "code",
   "execution_count": 24,
   "metadata": {},
   "outputs": [],
   "source": [
    "df.to_csv(HERE.parent / \"data_for_sam\"/ 'data_for_model.csv')"
   ]
  },
  {
   "cell_type": "code",
   "execution_count": 22,
   "metadata": {},
   "outputs": [
    {
     "name": "stdout",
     "output_type": "stream",
     "text": [
      "                    Mixed Linear Model Regression Results\n",
      "==============================================================================\n",
      "Model:                    MixedLM        Dependent Variable:        value     \n",
      "No. Observations:         1412           Method:                    REML      \n",
      "No. Groups:               8              Scale:                     0.3986    \n",
      "Min. group size:          75             Log-Likelihood:            -1367.9595\n",
      "Max. group size:          295            Converged:                 Yes       \n",
      "Mean group size:          176.5                                               \n",
      "------------------------------------------------------------------------------\n",
      "                                    Coef.  Std.Err.   z    P>|z| [0.025 0.975]\n",
      "------------------------------------------------------------------------------\n",
      "Intercept                            0.435    0.079  5.483 0.000  0.279  0.590\n",
      "group[T.WT]                          0.369    0.112  3.304 0.001  0.150  0.588\n",
      "movement_centered_group             -0.118    0.076 -1.549 0.121 -0.267  0.031\n",
      "group[T.WT]:movement_centered_group  0.029    0.107  0.270 0.787 -0.180  0.238\n",
      "Group Var                            0.022    0.028                           \n",
      "==============================================================================\n",
      "\n"
     ]
    }
   ],
   "source": [
    "print(result.summary())"
   ]
  },
  {
   "cell_type": "code",
   "execution_count": 61,
   "metadata": {},
   "outputs": [],
   "source": [
    "beta_group = result.params[\"group[T.WT]\"]  # The effect of being in the WT group (relative to the baseline)\n",
    "beta_movement = result.params[\"movement_centered_group\"]  # The effect of movement_centered on value\n",
    "movement_effect = df[\"movement_centered\"] * beta_movement\n",
    "\n",
    "df[\"corrected_value\"] = df['value'] - movement_effect\n",
    "df['fitted_value'] = result.fittedvalues - movement_effect"
   ]
  },
  {
   "cell_type": "code",
   "execution_count": 62,
   "metadata": {},
   "outputs": [],
   "source": [
    "plt.clf()\n",
    "sns.boxplot(x='group', y='corrected_value', hue='subject', data=df, dodge=True, legend=True)\n",
    "sns.stripplot(x='group', y='corrected_value', hue='subject', data=df, dodge=True, legend=False)\n",
    "\n",
    "plt.show()"
   ]
  },
  {
   "cell_type": "code",
   "execution_count": null,
   "metadata": {},
   "outputs": [],
   "source": [
    "fixed_effects = model.fit().params\n",
    "movement_effect = fixed_effects[\"movement_centered_group\"] * df[\"movement_centered_group\"]\n"
   ]
  }
 ],
 "metadata": {
  "kernelspec": {
   "display_name": "venv",
   "language": "python",
   "name": "python3"
  },
  "language_info": {
   "codemirror_mode": {
    "name": "ipython",
    "version": 3
   },
   "file_extension": ".py",
   "mimetype": "text/x-python",
   "name": "python",
   "nbconvert_exporter": "python",
   "pygments_lexer": "ipython3",
   "version": "3.12.7"
  }
 },
 "nbformat": 4,
 "nbformat_minor": 2
}
